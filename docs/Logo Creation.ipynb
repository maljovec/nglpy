{
 "cells": [
  {
   "cell_type": "code",
   "execution_count": 112,
   "metadata": {
    "ExecuteTime": {
     "end_time": "2018-08-22T19:06:21.633361Z",
     "start_time": "2018-08-22T19:06:21.629800Z"
    }
   },
   "outputs": [],
   "source": [
    "import matplotlib.pyplot as plt\n",
    "from matplotlib.patches import Circle\n",
    "from matplotlib.collections import LineCollection, PatchCollection\n",
    "import seaborn\n",
    "import numpy as np\n",
    "import colorsys"
   ]
  },
  {
   "cell_type": "code",
   "execution_count": 156,
   "metadata": {
    "ExecuteTime": {
     "end_time": "2018-08-22T19:25:30.365467Z",
     "start_time": "2018-08-22T19:25:30.133598Z"
    }
   },
   "outputs": [
    {
     "data": {
      "image/png": "[encoded data removed]",
      "text/plain": [
       "<Figure size 432x288 with 1 Axes>"
      ]
     },
     "metadata": {},
     "output_type": "display_data"
    }
   ],
   "source": [
    "fig = plt.figure()\n",
    "ax = plt.gca()\n",
    "\n",
    "\n",
    "def make_nglpy_logo():\n",
    "    lw = 4\n",
    "    ew = 1\n",
    "    r = 0.03\n",
    "    cmap = plt.get_cmap(\"cividis\")\n",
    "\n",
    "    letter_height = 0.3\n",
    "    letter_bottom = 0.35\n",
    "    letter_width = 0.2\n",
    "\n",
    "    N_offset = 0.05\n",
    "    G_offset = N_offset + letter_width * 2\n",
    "    L_offset = G_offset + letter_width * 2\n",
    "    P_offset = L_offset + letter_width * 2\n",
    "    y_offset = P_offset + letter_width * 2\n",
    "\n",
    "    colors = {\n",
    "        \"N\": cmap(0.2),\n",
    "        \"G\": cmap(0.4),\n",
    "        \"L\": cmap(0.6),\n",
    "        \"P\": cmap(0.8),\n",
    "        \"y\": cmap(1.0),\n",
    "    }\n",
    "\n",
    "    points = {\n",
    "        \"N\": [\n",
    "            (N_offset, letter_bottom),\n",
    "            (N_offset, letter_bottom + letter_height),\n",
    "            (N_offset + letter_width, letter_bottom),\n",
    "            (N_offset + letter_width, letter_bottom + letter_height),\n",
    "        ],\n",
    "        \"G\": [\n",
    "            (G_offset + letter_width, letter_bottom + letter_height),\n",
    "            (G_offset, letter_bottom + letter_height),\n",
    "            (G_offset, letter_bottom),\n",
    "            (G_offset + letter_width, letter_bottom),\n",
    "            (G_offset + letter_width, letter_bottom + letter_height / 2.0),\n",
    "        ],\n",
    "        \"L\": [\n",
    "            (L_offset, letter_bottom + letter_height),\n",
    "            (L_offset, letter_bottom),\n",
    "            (L_offset + letter_width, letter_bottom),\n",
    "        ],\n",
    "        \"P\": [\n",
    "            (P_offset, letter_bottom),\n",
    "            (P_offset, letter_bottom + letter_height),\n",
    "            (P_offset + letter_width, letter_bottom + letter_height),\n",
    "            (P_offset + letter_width, letter_bottom + letter_height / 2.0),\n",
    "            (P_offset, letter_bottom + letter_height / 2.0),\n",
    "        ],\n",
    "        \"y\": [\n",
    "            (y_offset + letter_width, letter_bottom + letter_height / 2.0),\n",
    "            (y_offset, letter_bottom - letter_height / 2.0),\n",
    "            (y_offset + letter_width / 2.0, letter_bottom),\n",
    "            (y_offset, letter_bottom + letter_height / 2.0),\n",
    "        ],\n",
    "    }\n",
    "\n",
    "    for letter in \"NGLPy\":\n",
    "        pts = points[letter]\n",
    "        lines = []\n",
    "        dots = []\n",
    "        outline_dots = []\n",
    "        for i in range(len(pts) - 1):\n",
    "            lines.append([pts[i], pts[i + 1]])\n",
    "        for pt in pts:\n",
    "            dots.append(Circle((pt[0], pt[1]), r))\n",
    "            outline_dots.append(Circle((pt[0], pt[1]), r + 0.01))\n",
    "\n",
    "        # rgba = colors[letter]\n",
    "        # if colorsys.rgb_to_hls(rgba[0], rgba[1], rgba[2])[1] > 0.5:\n",
    "        #     outline_color = '#000000'\n",
    "        # else:\n",
    "        #     outline_color = '#000000'\n",
    "        outline_color = \"#000000\"\n",
    "\n",
    "        ax.add_collection(\n",
    "            LineCollection(lines, linewidths=lw + 2, zorder=1, color=outline_color)\n",
    "        )\n",
    "        ax.add_collection(\n",
    "            LineCollection(lines, linewidths=lw, zorder=2, color=colors[letter])\n",
    "        )\n",
    "        ax.add_collection(\n",
    "            PatchCollection(\n",
    "                outline_dots,\n",
    "                zorder=3,\n",
    "                alpha=1,\n",
    "                color=\"#FFFFFF\",\n",
    "                edgecolor=\"#FFFFFF\",\n",
    "                linewidths=1,\n",
    "            )\n",
    "        )\n",
    "        ax.add_collection(\n",
    "            PatchCollection(\n",
    "                dots,\n",
    "                zorder=4,\n",
    "                alpha=1,\n",
    "                color=colors[letter],\n",
    "                edgecolor=outline_color,\n",
    "                linewidths=1,\n",
    "            )\n",
    "        )\n",
    "\n",
    "\n",
    "make_nglpy_logo()\n",
    "\n",
    "plt.xlim(0, 2)\n",
    "plt.ylim(0, 1)\n",
    "\n",
    "plt.axis(\"off\")\n",
    "ax.set_aspect(\"equal\")\n",
    "# plt.show()\n",
    "plt.savefig(\"nglpy.svg\", transparent=True)"
   ]
  },
  {
   "cell_type": "code",
   "execution_count": 159,
   "metadata": {
    "ExecuteTime": {
     "end_time": "2018-08-22T19:28:10.681138Z",
     "start_time": "2018-08-22T19:28:10.486404Z"
    }
   },
   "outputs": [
    {
     "data": {
      "image/png": "[encoded data removed]",
      "text/plain": [
       "<Figure size 432x288 with 1 Axes>"
      ]
     },
     "metadata": {},
     "output_type": "display_data"
    }
   ],
   "source": [
    "fig = plt.figure()\n",
    "ax = plt.gca()\n",
    "\n",
    "lw = 4\n",
    "r = 0.025\n",
    "cmap = plt.get_cmap(\"cividis\")\n",
    "\n",
    "letter_height = 0.3\n",
    "letter_bottom = 0.35\n",
    "letter_width = 0.2\n",
    "\n",
    "N_offset = 0.05\n",
    "G_offset = N_offset + letter_width * 2\n",
    "L_offset = G_offset + letter_width * 2\n",
    "P_offset = L_offset + letter_width * 2\n",
    "y_offset = P_offset + letter_width * 2\n",
    "\n",
    "c_offset = y_offset + letter_width * 2\n",
    "u_offset = c_offset + letter_width * 2\n",
    "\n",
    "colors = {\"c\": \"#76b900\", \"u\": \"#76b900\", \"d\": \"#76b900\", \"a\": \"#76b900\"}\n",
    "\n",
    "points = {\n",
    "    \"c\": [\n",
    "        (c_offset + letter_width, letter_bottom + letter_height / 2.0),\n",
    "        (c_offset, letter_bottom + letter_height / 2.0),\n",
    "        (c_offset, letter_bottom),\n",
    "        (c_offset + letter_width, letter_bottom),\n",
    "    ],\n",
    "    \"u\": [\n",
    "        (u_offset, letter_bottom + letter_height / 2.0),\n",
    "        (u_offset, letter_bottom),\n",
    "        (u_offset + letter_width, letter_bottom),\n",
    "        (u_offset + letter_width, letter_bottom + letter_height / 2.0),\n",
    "    ],\n",
    "}\n",
    "\n",
    "make_nglpy_logo()\n",
    "\n",
    "outline_color = \"#000000\"\n",
    "for letter in \"cu\":\n",
    "    pts = points[letter]\n",
    "    lines = []\n",
    "    dots = []\n",
    "    outline_dots = []\n",
    "    for i in range(len(pts) - 1):\n",
    "        lines.append([pts[i], pts[i + 1]])\n",
    "    for pt in pts:\n",
    "        dots.append(Circle((pt[0], pt[1]), r))\n",
    "        outline_dots.append(Circle((pt[0], pt[1]), r + 0.01))\n",
    "\n",
    "    ax.add_collection(\n",
    "        LineCollection(lines, linewidths=lw + 2, zorder=1, color=outline_color)\n",
    "    )\n",
    "    ax.add_collection(\n",
    "        LineCollection(lines, linewidths=lw, zorder=2, color=colors[letter])\n",
    "    )\n",
    "    ax.add_collection(\n",
    "        PatchCollection(\n",
    "            outline_dots,\n",
    "            zorder=3,\n",
    "            alpha=1,\n",
    "            color=\"#FFFFFF\",\n",
    "            edgecolor=\"#FFFFFF\",\n",
    "            linewidths=1,\n",
    "        )\n",
    "    )\n",
    "    ax.add_collection(\n",
    "        PatchCollection(\n",
    "            dots,\n",
    "            zorder=4,\n",
    "            alpha=1,\n",
    "            color=colors[letter],\n",
    "            edgecolor=\"#000000\",\n",
    "            linewidths=1,\n",
    "        )\n",
    "    )\n",
    "\n",
    "plt.xlim(0, 3)\n",
    "plt.ylim(0, 1)\n",
    "\n",
    "plt.axis(\"off\")\n",
    "ax.set_aspect(\"equal\")\n",
    "# plt.show()\n",
    "plt.savefig(\"nglpycu.svg\", transparent=True)"
   ]
  },
  {
   "cell_type": "code",
   "execution_count": 126,
   "metadata": {
    "ExecuteTime": {
     "end_time": "2018-08-22T19:13:41.279038Z",
     "start_time": "2018-08-22T19:13:41.266978Z"
    }
   },
   "outputs": [
    {
     "ename": "KeyError",
     "evalue": "'N'",
     "output_type": "error",
     "traceback": [
      "\u001b[0;31m---------------------------------------------------------------------------\u001b[0m",
      "\u001b[0;31mKeyError\u001b[0m                                  Traceback (most recent call last)",
      "\u001b[0;32m<ipython-input-126-158c6186b449>\u001b[0m in \u001b[0;36m<module>\u001b[0;34m()\u001b[0m\n\u001b[0;32m----> 1\u001b[0;31m \u001b[0mtype\u001b[0m\u001b[0;34m(\u001b[0m\u001b[0mcolors\u001b[0m\u001b[0;34m[\u001b[0m\u001b[0;34m'N'\u001b[0m\u001b[0;34m]\u001b[0m\u001b[0;34m)\u001b[0m\u001b[0;34m\u001b[0m\u001b[0m\n\u001b[0m",
      "\u001b[0;31mKeyError\u001b[0m: 'N'"
     ]
    }
   ],
   "source": []
  },
  {
   "cell_type": "code",
   "execution_count": null,
   "metadata": {},
   "outputs": [],
   "source": []
  }
 ],
 "metadata": {
  "kernelspec": {
   "display_name": "Python [conda env:anaconda3]",
   "language": "python",
   "name": "conda-env-anaconda3-py"
  },
  "language_info": {
   "codemirror_mode": {
    "name": "ipython",
    "version": 3
   },
   "file_extension": ".py",
   "mimetype": "text/x-python",
   "name": "python",
   "nbconvert_exporter": "python",
   "pygments_lexer": "ipython3",
   "version": "3.6.6"
  }
 },
 "nbformat": 4,
 "nbformat_minor": 2
}
